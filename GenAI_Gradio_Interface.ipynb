{
 "cells": [
  {
   "cell_type": "markdown",
   "id": "88535ead",
   "metadata": {},
   "source": [
    "Generative AI Tasks with Gradio enabled Interfaces🗞️"
   ]
  },
  {
   "cell_type": "markdown",
   "id": "6faa43ba",
   "metadata": {},
   "source": [
    "The transformer model will be run locally, no need to use HugginFace API."
   ]
  },
  {
   "cell_type": "code",
   "execution_count": 1,
   "id": "d2698081-4deb-436a-a821-8ea48bdd6e6a",
   "metadata": {
    "height": 149
   },
   "outputs": [],
   "source": [
    "import os\n",
    "import io\n",
    "import IPython.display\n",
    "from IPython.display import Image, display, HTML\n",
    "from PIL import Image\n",
    "import base64 "
   ]
  },
  {
   "cell_type": "markdown",
   "id": "a97a06f9",
   "metadata": {},
   "source": [
    "## Building a Text Summarization and Image Captioning Gen AI Application"
   ]
  },
  {
   "cell_type": "code",
   "execution_count": 2,
   "id": "f7a5a409",
   "metadata": {
    "height": 30
   },
   "outputs": [
    {
     "name": "stderr",
     "output_type": "stream",
     "text": [
      "/home/codespace/.python/current/lib/python3.12/site-packages/tqdm/auto.py:21: TqdmWarning: IProgress not found. Please update jupyter and ipywidgets. See https://ipywidgets.readthedocs.io/en/stable/user_install.html\n",
      "  from .autonotebook import tqdm as notebook_tqdm\n",
      "Device set to use cpu\n",
      "Using a slow image processor as `use_fast` is unset and a slow processor was saved with this model. `use_fast=True` will be the default behavior in v4.48, even if the model was saved with a slow processor. This will result in minor differences in outputs. You'll still be able to use a slow processor with `use_fast=False`.\n",
      "Device set to use cpu\n"
     ]
    },
    {
     "name": "stdout",
     "output_type": "stream",
     "text": [
      "* Running on local URL:  http://127.0.0.1:8080\n",
      "* Running on public URL: https://c131c18ddc139803dc.gradio.live\n",
      "\n",
      "This share link expires in 72 hours. For free permanent hosting and GPU upgrades, run `gradio deploy` from the terminal in the working directory to deploy to Hugging Face Spaces (https://huggingface.co/spaces)\n"
     ]
    },
    {
     "data": {
      "text/html": [
       "<div><iframe src=\"https://c131c18ddc139803dc.gradio.live\" width=\"100%\" height=\"500\" allow=\"autoplay; camera; microphone; clipboard-read; clipboard-write;\" frameborder=\"0\" allowfullscreen></iframe></div>"
      ],
      "text/plain": [
       "<IPython.core.display.HTML object>"
      ]
     },
     "metadata": {},
     "output_type": "display_data"
    },
    {
     "data": {
      "text/plain": []
     },
     "execution_count": 2,
     "metadata": {},
     "output_type": "execute_result"
    },
    {
     "name": "stderr",
     "output_type": "stream",
     "text": [
      "Your max_length is set to 130, but your input_length is only 46. Since this is a summarization task, where outputs shorter than the input are typically wanted, you might consider decreasing max_length manually, e.g. summarizer('...', max_length=23)\n",
      "Your max_length is set to 130, but your input_length is only 3. Since this is a summarization task, where outputs shorter than the input are typically wanted, you might consider decreasing max_length manually, e.g. summarizer('...', max_length=1)\n"
     ]
    }
   ],
   "source": [
    "import gradio as gr\n",
    "from transformers import pipeline\n",
    "\n",
    "# Load models\n",
    "text_summarizer = pipeline(\"summarization\", model=\"sshleifer/distilbart-cnn-12-6\")\n",
    "image_captioning = pipeline(\"image-to-text\", model=\"Salesforce/blip-image-captioning-base\")\n",
    "\n",
    "# Define functions\n",
    "def summarize_text(input_text):\n",
    "    summary = text_summarizer(input_text, max_length=130, min_length=30, do_sample=False)\n",
    "    return summary[0]['summary_text']\n",
    "\n",
    "def caption_image(input_image_path):\n",
    "    caption = image_captioning(input_image_path)\n",
    "    return caption[0]['generated_text']\n",
    "\n",
    "# Create Gradio interface\n",
    "app = gr.Blocks()\n",
    "\n",
    "with app:\n",
    "    gr.Markdown(\"# 🧠 Gen AI App: Text Summarization and Image Captioning\")\n",
    "\n",
    "    with gr.Tab(\"Text Summarization\"):\n",
    "        gr.Markdown(\"### Enter a passage below to generate a concise summary.\")\n",
    "        input_text_summarization = gr.Textbox(label=\"Input Text\", placeholder=\"Paste your text here...\")\n",
    "        output_summary = gr.Textbox(label=\"Summary\", placeholder=\"Generated summary will appear here...\")\n",
    "        summarize_button = gr.Button(\"Summarize\")\n",
    "        summarize_button.click(summarize_text, inputs=input_text_summarization, outputs=output_summary)\n",
    "\n",
    "    with gr.Tab(\"Image Captioning\"):\n",
    "        gr.Markdown(\"### Upload an image below to generate a caption.\")\n",
    "        input_image = gr.Image(label=\"Upload Image\", type=\"filepath\")  # Correct type\n",
    "        output_caption = gr.Textbox(label=\"Caption\", placeholder=\"Generated caption will appear here...\")\n",
    "        caption_button = gr.Button(\"Generate Caption\")\n",
    "        caption_button.click(caption_image, inputs=input_image, outputs=output_caption)\n",
    "\n",
    "# Export the Gradio app's Flask server\n",
    "app.launch(share=True, server_port=int(8080))\n"
   ]
  },
  {
   "cell_type": "code",
   "execution_count": 3,
   "id": "5fd8a28e",
   "metadata": {},
   "outputs": [],
   "source": [
    "gr.close_all()"
   ]
  }
 ],
 "metadata": {
  "kernelspec": {
   "display_name": "Python 3",
   "language": "python",
   "name": "python3"
  },
  "language_info": {
   "codemirror_mode": {
    "name": "ipython",
    "version": 3
   },
   "file_extension": ".py",
   "mimetype": "text/x-python",
   "name": "python",
   "nbconvert_exporter": "python",
   "pygments_lexer": "ipython3",
   "version": "3.12.1"
  }
 },
 "nbformat": 4,
 "nbformat_minor": 5
}
